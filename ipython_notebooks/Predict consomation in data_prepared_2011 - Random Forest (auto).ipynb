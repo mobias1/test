{
 "metadata": {
  "name": "",
  "signature": "sha256:0464670c6edb0388789814c272a12e98777d276f18a3f88a1a0717df387c94bc"
 },
 "nbformat": 3,
 "nbformat_minor": 0,
 "worksheets": [
  {
   "cells": [
    {
     "cell_type": "heading",
     "level": 1,
     "metadata": {},
     "source": [
      "Predicting consomation in ECOMETERING_LIGHT.data_prepared_2011"
     ]
    },
    {
     "cell_type": "heading",
     "level": 3,
     "metadata": {},
     "source": [
      "Notebook automatically generated from your Model"
     ]
    },
    {
     "cell_type": "heading",
     "level": 4,
     "metadata": {},
     "source": [
      "Generated on 2015-01-27 10:11:44.287767"
     ]
    },
    {
     "cell_type": "markdown",
     "metadata": {},
     "source": [
      "prediction\n",
      "This notebook will reproduce all the steps for a regression on  ECOMETERING_LIGHT.data_prepared_2011.\n",
      "The main objective is to predict the variable consomation"
     ]
    },
    {
     "cell_type": "markdown",
     "metadata": {},
     "source": [
      "Let's start with importing the required libs :"
     ]
    },
    {
     "cell_type": "code",
     "collapsed": false,
     "input": [
      "import dataiku\n",
      "import numpy as np\n",
      "import pandas as pd\n",
      "import sklearn as sk\n",
      "import dataiku.core.pandasutils as pdu\n",
      "from dataiku.doctor.preprocessing import PCA\n",
      "from collections import defaultdict, Counter"
     ],
     "language": "python",
     "metadata": {},
     "outputs": [],
     "prompt_number": 9
    },
    {
     "cell_type": "markdown",
     "metadata": {},
     "source": [
      "And tune pandas display options:"
     ]
    },
    {
     "cell_type": "code",
     "collapsed": false,
     "input": [
      "pd.set_option('display.width', 3000)\n",
      "pd.set_option('display.max_rows', 200)\n",
      "pd.set_option('display.max_columns', 200)"
     ],
     "language": "python",
     "metadata": {},
     "outputs": [],
     "prompt_number": 10
    },
    {
     "cell_type": "heading",
     "level": 4,
     "metadata": {},
     "source": [
      "Importing base data"
     ]
    },
    {
     "cell_type": "markdown",
     "metadata": {},
     "source": [
      "The first step is to get our machine learning dataset:"
     ]
    },
    {
     "cell_type": "code",
     "collapsed": false,
     "input": [
      "input_columns = [u'temperature', u'hour', u'NAF_code', u'Site', u'month', u'week_day', u'consomation']\n",
      "%time ml_dataset = dataiku.Dataset('ECOMETERING_LIGHT.data_prepared_2011').get_dataframe(columns=input_columns)\n",
      "print 'Base data has %i rows and %i columns' % (ml_dataset.shape[0], ml_dataset.shape[1])\n",
      "# Five first records\",\n",
      "ml_dataset.head(5)"
     ],
     "language": "python",
     "metadata": {},
     "outputs": [
      {
       "output_type": "stream",
       "stream": "stdout",
       "text": [
        "CPU times: user 100 ms, sys: 43.3 ms, total: 144 ms\n",
        "Wall time: 2.61 s\n",
        "Base data has 157662 rows and 7 columns\n"
       ]
      },
      {
       "html": [
        "\n",
        "            <button style=\"display:none\" \n",
        "            class=\"btn ipython-export-btn\" \n",
        "            id=\"btn-df-d244a16f-877a-4aa7-a548-bdc72c8b1d3c\" \n",
        "            onclick=\"_export_df('d244a16f-877a-4aa7-a548-bdc72c8b1d3c')\">\n",
        "                Export dataframe\n",
        "            </button>\n",
        "            \n",
        "            <script>\n",
        "                \n",
        "                function _check_export_df_possible(dfid,yes_fn,no_fn) {\n",
        "                    console.log('Checking dataframe exportability...')\n",
        "                    if(!IPython || !IPython.notebook || !IPython.notebook.kernel || !IPython.notebook.kernel.running) {\n",
        "                        console.log('Export is not possible (IPython kernel is not available)')\n",
        "                        if(no_fn) {\n",
        "                            no_fn();\n",
        "                        }\n",
        "                    } else {\n",
        "                        var pythonCode = 'from dataiku.notebook.export import IPythonExporter;IPythonExporter._check_export_stdout(\"'+dfid+'\")';\n",
        "                        IPython.notebook.kernel.execute(pythonCode,{iopub: {output: function(resp) {\n",
        "                            var size = /^([0-9]+)x([0-9]+)$/.exec(resp.content.data)\n",
        "                            if(!size) {\n",
        "                                console.log('Export is not possible (dataframe is not in-memory anymore)')\n",
        "                                if(no_fn) {\n",
        "                                    no_fn();\n",
        "                                }\n",
        "                            } else {\n",
        "                                console.log('Export is possible')\n",
        "                                if(yes_fn) {\n",
        "                                    yes_fn(1*size[1],1*size[2]);\n",
        "                                }\n",
        "                            }\n",
        "                        }}});\n",
        "                    }\n",
        "                }\n",
        "            \n",
        "                function _export_df(dfid) {\n",
        "                    \n",
        "                    var btn = $('#btn-df-'+dfid);\n",
        "                    var btns = $('.ipython-export-btn');\n",
        "                    \n",
        "                    _check_export_df_possible(dfid,function() {\n",
        "                        \n",
        "                        window.parent.openExportModalFromIPython('Pandas dataframe',function(data) {\n",
        "                            btns.prop('disabled',true);\n",
        "                            btn.text('Exporting...');\n",
        "                            IPython.notebook.kernel.execute('from dataiku.notebook.export import IPythonExporter;IPythonExporter._run_export(\"'+dfid+'\",\"'+data.exportId+'\")',{iopub:{output: function(resp) {\n",
        "                                _check_export_df_possible(dfid,function(rows, cols) {\n",
        "                                    $('#btn-df-'+dfid)\n",
        "                                        .css('display','inline-block')\n",
        "                                        .text('Export this dataframe ('+rows+' rows, '+cols+' cols)')\n",
        "                                        .prop('disabled',false);\n",
        "                                },function() {\n",
        "                                    $('#btn-df-'+dfid).css('display','none');\n",
        "                                });\n",
        "                            }}});\n",
        "                        });\n",
        "                    \n",
        "                    }, function(){\n",
        "                            alert('Unable to export : the Dataframe object is not loaded in memory');\n",
        "                            btn.css('display','none');\n",
        "                    });\n",
        "                    \n",
        "                }\n",
        "                \n",
        "                (function(dfid) {\n",
        "                \n",
        "                    var retryCount = 10;\n",
        "                \n",
        "                    function is_valid_websock(s) {\n",
        "                        return s && s.readyState==1;\n",
        "                    }\n",
        "                \n",
        "                    function check_conn() {\n",
        "                        \n",
        "                        if(!IPython || !IPython.notebook) {\n",
        "                            // Don't even try to go further\n",
        "                            return;\n",
        "                        }\n",
        "                        \n",
        "                        // Check if IPython is ready\n",
        "                        if(IPython.notebook.kernel \n",
        "                        && IPython.notebook.kernel.running\n",
        "                        && is_valid_websock(IPython.notebook.kernel.shell_channel)\n",
        "                        && is_valid_websock(IPython.notebook.kernel.stdin_channel)\n",
        "                        && is_valid_websock(IPython.notebook.kernel.iopub_channel)\n",
        "                        ) {\n",
        "                            \n",
        "                            _check_export_df_possible(dfid,function(rows, cols) {\n",
        "                                $('#btn-df-'+dfid).css('display','inline-block');\n",
        "                                $('#btn-df-'+dfid).text('Export this dataframe ('+rows+' rows, '+cols+' cols)');\n",
        "                            });\n",
        "                            \n",
        "                        } else {\n",
        "                            \n",
        "                            // Retry later\n",
        "                            \n",
        "                            if(retryCount>0) {\n",
        "                                setTimeout(check_conn,500);\n",
        "                                retryCount--;\n",
        "                            }\n",
        "                            \n",
        "                        }\n",
        "                    };\n",
        "                    \n",
        "                    setTimeout(check_conn,100);\n",
        "                    \n",
        "                })(\"d244a16f-877a-4aa7-a548-bdc72c8b1d3c\");\n",
        "                \n",
        "            </script>\n",
        "            \n",
        "        <div style=\"max-height:1000px;max-width:1500px;overflow:auto;\">\n",
        "<table border=\"1\" class=\"dataframe\">\n",
        "  <thead>\n",
        "    <tr style=\"text-align: right;\">\n",
        "      <th></th>\n",
        "      <th>temperature</th>\n",
        "      <th>hour</th>\n",
        "      <th>NAF_code</th>\n",
        "      <th>Site</th>\n",
        "      <th>month</th>\n",
        "      <th>week_day</th>\n",
        "      <th>consomation</th>\n",
        "    </tr>\n",
        "  </thead>\n",
        "  <tbody>\n",
        "    <tr>\n",
        "      <th>0</th>\n",
        "      <td>-2.5</td>\n",
        "      <td> 0</td>\n",
        "      <td> Chemical industry</td>\n",
        "      <td> ID01</td>\n",
        "      <td> 1</td>\n",
        "      <td> 6</td>\n",
        "      <td> 4314</td>\n",
        "    </tr>\n",
        "    <tr>\n",
        "      <th>1</th>\n",
        "      <td> 1.1</td>\n",
        "      <td> 0</td>\n",
        "      <td>            Hotels</td>\n",
        "      <td> ID18</td>\n",
        "      <td> 1</td>\n",
        "      <td> 6</td>\n",
        "      <td>   39</td>\n",
        "    </tr>\n",
        "    <tr>\n",
        "      <th>2</th>\n",
        "      <td> 5.0</td>\n",
        "      <td> 0</td>\n",
        "      <td>            Hotels</td>\n",
        "      <td> ID31</td>\n",
        "      <td> 1</td>\n",
        "      <td> 6</td>\n",
        "      <td>   93</td>\n",
        "    </tr>\n",
        "    <tr>\n",
        "      <th>3</th>\n",
        "      <td>-2.5</td>\n",
        "      <td> 0</td>\n",
        "      <td> Chemical industry</td>\n",
        "      <td> ID01</td>\n",
        "      <td> 1</td>\n",
        "      <td> 6</td>\n",
        "      <td> 4295</td>\n",
        "    </tr>\n",
        "    <tr>\n",
        "      <th>4</th>\n",
        "      <td> 1.1</td>\n",
        "      <td> 0</td>\n",
        "      <td>            Hotels</td>\n",
        "      <td> ID18</td>\n",
        "      <td> 1</td>\n",
        "      <td> 6</td>\n",
        "      <td>   45</td>\n",
        "    </tr>\n",
        "  </tbody>\n",
        "</table>\n",
        "</div>"
       ],
       "metadata": {},
       "output_type": "pyout",
       "prompt_number": 11,
       "text": [
        "   temperature  hour           NAF_code  Site  month  week_day  consomation\n",
        "0         -2.5     0  Chemical industry  ID01      1         6         4314\n",
        "1          1.1     0             Hotels  ID18      1         6           39\n",
        "2          5.0     0             Hotels  ID31      1         6           93\n",
        "3         -2.5     0  Chemical industry  ID01      1         6         4295\n",
        "4          1.1     0             Hotels  ID18      1         6           45"
       ]
      }
     ],
     "prompt_number": 11
    },
    {
     "cell_type": "heading",
     "level": 4,
     "metadata": {},
     "source": [
      "Initial data management"
     ]
    },
    {
     "cell_type": "markdown",
     "metadata": {},
     "source": [
      "The preprocessing aims at making the dataset compatible with modeling.\n",
      "At the end of this step, we will have a matrix of float numbers, with no missing values.\n",
      "We'll reuse the schema and the preprocessing steps defined in Models.\n",
      "\n",
      "Let's coerce categorical columns into unicode, numerical features into floats."
     ]
    },
    {
     "cell_type": "code",
     "collapsed": false,
     "input": [
      "categorical_features = [u'hour', u'NAF_code', u'Site', u'month', u'week_day']\n",
      "numerical_features = [u'temperature']\n",
      "text_features = []\n",
      "from dataiku.doctor.utils import datetime_to_epoch\n",
      "for feature in categorical_features:\n",
      "    ml_dataset[feature] = ml_dataset[feature].astype('unicode')\n",
      "for feature in text_features:\n",
      "    ml_dataset[feature] = ml_dataset[feature].astype('unicode')\n",
      "for feature in numerical_features:\n",
      "    if ml_dataset[feature].dtype == np.dtype('<M8[ns]'):\n",
      "        ml_dataset[feature] = datetime_to_epoch(ml_dataset[feature])\n",
      "    else:\n",
      "        ml_dataset[feature] = ml_dataset[feature].astype('double')"
     ],
     "language": "python",
     "metadata": {},
     "outputs": [],
     "prompt_number": 12
    },
    {
     "cell_type": "markdown",
     "metadata": {},
     "source": [
      "The preprocessing aims at making the dataset compatible with modeling.\n",
      "At the end of this step, we will have a matrix of float numbers, with no missing values.\n",
      "We'll reuse the schema and the preprocessing steps defined in Models."
     ]
    },
    {
     "cell_type": "markdown",
     "metadata": {},
     "source": [
      "( Deduplication not required, skipping... )"
     ]
    },
    {
     "cell_type": "markdown",
     "metadata": {},
     "source": [
      "We renamed the target variable to a column named target"
     ]
    },
    {
     "cell_type": "code",
     "collapsed": false,
     "input": [
      "ml_dataset['__target__'] = ml_dataset['consomation']\n",
      "del ml_dataset['consomation']\n",
      "\n",
      "\n",
      "# Remove rows for which the target is unknown.\n",
      "ml_dataset = ml_dataset[~ml_dataset['__target__'].isnull()]"
     ],
     "language": "python",
     "metadata": {},
     "outputs": [],
     "prompt_number": 13
    },
    {
     "cell_type": "markdown",
     "metadata": {},
     "source": [
      "The dataset needs to be split into 2 new sets, one that will be used for training the model\n",
      "and another that will be used to test its generalization capability.\n",
      "This is a simple cross-validation strategy."
     ]
    },
    {
     "cell_type": "code",
     "collapsed": false,
     "input": [
      "train, valid = pdu.split_train_valid(ml_dataset, prop=0.8)\n",
      "print 'Train data has %i rows and %i columns' % (train.shape[0], train.shape[1])\n",
      "print 'Validation data has %i rows and %i columns' % (valid.shape[0], valid.shape[1])"
     ],
     "language": "python",
     "metadata": {},
     "outputs": [
      {
       "output_type": "stream",
       "stream": "stdout",
       "text": [
        "Train data has 126129 rows and 7 columns\n",
        "Validation data has 31533 rows and 7 columns\n"
       ]
      }
     ],
     "prompt_number": 14
    },
    {
     "cell_type": "heading",
     "level": 4,
     "metadata": {},
     "source": [
      "Features preprocessing"
     ]
    },
    {
     "cell_type": "markdown",
     "metadata": {},
     "source": [
      "The first thing to do at the features level is to handle the missing values.\n",
      "Let's reuse the settings defined in the model"
     ]
    },
    {
     "cell_type": "code",
     "collapsed": false,
     "input": [
      "drop_rows_when_missing = []\n",
      "flag_when_missing = []\n",
      "impute_when_missing = [{'impute_with': u'MEDIAN', 'feature': u'temperature'}, {'impute_with': u'MODE', 'feature': u'hour'}, {'impute_with': u'MODE', 'feature': u'NAF_code'}, {'impute_with': u'MODE', 'feature': u'Site'}, {'impute_with': u'MODE', 'feature': u'month'}, {'impute_with': u'MODE', 'feature': u'week_day'}]\n",
      "\n",
      "# Features for which we drop rows with missing values\"\n",
      "for feature in drop_rows_when_missing:\n",
      "    train = train[train[feature].notnull()]\n",
      "    valid = valid[valid[feature].notnull()]\n",
      "    print 'Dropped missing records in %s' % feature\n",
      "\n",
      "# Features for which we replace the feature by a 'flag feature' indicating whether the value was present\"\n",
      "for feature in flag_when_missing:\n",
      "    train['notMissing_' + feature] = train[feature].map(lambda x: 0 if pd.isnull(x) else 1).astype(np.uint8)\n",
      "    del train[feature]\n",
      "    \n",
      "    valid['notMissing_' + feature] = valid[feature].map(lambda x: 0 if pd.isnull(x) else 1).astype(np.uint8)\n",
      "    del valid[feature]\n",
      "    \n",
      "    print 'Flagged missing values in feature %s' % feature\n",
      "\n",
      "# Features for which we impute missing values\"\n",
      "for feature in impute_when_missing:\n",
      "    if feature['impute_with'] == 'MEAN':\n",
      "        v = train[feature['feature']].mean()\n",
      "    elif feature['impute_with'] == 'MEDIAN':\n",
      "        v = train[feature['feature']].median()\n",
      "    elif feature['impute_with'] == 'CREATE_CATEGORY':\n",
      "        v = 'NULL_CATEGORY'\n",
      "    elif feature['impute_with'] == 'MODE':\n",
      "        v = train[feature['feature']].value_counts().index[0]\n",
      "    train[feature['feature']] = train[feature['feature']].fillna(v)\n",
      "    valid[feature['feature']] = valid[feature['feature']].fillna(v)\n",
      "    print 'Imputed missing values in feature %s with value %s' % (feature['feature'], unicode(str(v), 'utf8'))"
     ],
     "language": "python",
     "metadata": {},
     "outputs": [
      {
       "output_type": "stream",
       "stream": "stdout",
       "text": [
        "Imputed missing values in feature temperature with value 12.9\n",
        "Imputed missing values in feature hour with value 8"
       ]
      },
      {
       "output_type": "stream",
       "stream": "stdout",
       "text": [
        "\n",
        "Imputed missing values in feature NAF_code with value Hotels"
       ]
      },
      {
       "output_type": "stream",
       "stream": "stdout",
       "text": [
        "\n",
        "Imputed missing values in feature Site with value ID01"
       ]
      },
      {
       "output_type": "stream",
       "stream": "stdout",
       "text": [
        "\n",
        "Imputed missing values in feature month with value 12"
       ]
      },
      {
       "output_type": "stream",
       "stream": "stdout",
       "text": [
        "\n",
        "Imputed missing values in feature week_day with value 6"
       ]
      },
      {
       "output_type": "stream",
       "stream": "stdout",
       "text": [
        "\n"
       ]
      }
     ],
     "prompt_number": 15
    },
    {
     "cell_type": "markdown",
     "metadata": {},
     "source": [
      "We can now handle the categorical features (still using the settings defined in Models):"
     ]
    },
    {
     "cell_type": "markdown",
     "metadata": {},
     "source": [
      "Let's dummify the following features."
     ]
    },
    {
     "cell_type": "code",
     "collapsed": false,
     "input": [
      "LIMIT_DUMMIES = 10\n",
      "\n",
      "categorical_to_dummify = [u'hour', u'NAF_code', u'Site', u'month', u'week_day']\n",
      "\n",
      "def select_dummy_values(df, features):\n",
      "    dummy_values = {}\n",
      "    for feature in categorical_to_dummify:\n",
      "        values = [\n",
      "            value\n",
      "            for (value, _) in Counter(train[feature]).most_common(LIMIT_DUMMIES)    \n",
      "        ]\n",
      "        dummy_values[feature] = values\n",
      "    return dummy_values\n",
      "\n",
      "DUMMY_VALUES = select_dummy_values(train, categorical_to_dummify)\n",
      "\n",
      "def dummify_dataframe(df):\n",
      "    for (feature, dummy_values) in DUMMY_VALUES.items():\n",
      "        for dummy_value in dummy_values:\n",
      "            dummy_name = '%s_value_%s' % (feature, unicode(dummy_value, 'utf8'))\n",
      "            df[dummy_name] = (df[feature] == dummy_value).astype(float)\n",
      "        del df[feature]\n",
      "        print 'Dummified feature %s' % feature\n",
      "\n",
      "dummify_dataframe(train)\n",
      "\n",
      "dummify_dataframe(valid)"
     ],
     "language": "python",
     "metadata": {},
     "outputs": [
      {
       "output_type": "stream",
       "stream": "stdout",
       "text": [
        "Dummified feature NAF_code\n",
        "Dummified feature week_day"
       ]
      },
      {
       "output_type": "stream",
       "stream": "stdout",
       "text": [
        "\n",
        "Dummified feature Site\n",
        "Dummified feature hour"
       ]
      },
      {
       "output_type": "stream",
       "stream": "stdout",
       "text": [
        "\n",
        "Dummified feature month"
       ]
      },
      {
       "output_type": "stream",
       "stream": "stdout",
       "text": [
        "\n",
        "Dummified feature NAF_code\n",
        "Dummified feature week_day\n",
        "Dummified feature Site"
       ]
      },
      {
       "output_type": "stream",
       "stream": "stdout",
       "text": [
        "\n",
        "Dummified feature hour"
       ]
      },
      {
       "output_type": "stream",
       "stream": "stdout",
       "text": [
        "\n",
        "Dummified feature month"
       ]
      },
      {
       "output_type": "stream",
       "stream": "stdout",
       "text": [
        "\n"
       ]
      }
     ],
     "prompt_number": 16
    },
    {
     "cell_type": "markdown",
     "metadata": {},
     "source": [
      "Rescaling features"
     ]
    },
    {
     "cell_type": "code",
     "collapsed": false,
     "input": [
      "# Rescaling is not required"
     ],
     "language": "python",
     "metadata": {},
     "outputs": [],
     "prompt_number": 17
    },
    {
     "cell_type": "heading",
     "level": 4,
     "metadata": {},
     "source": [
      "Dimension Reduction"
     ]
    },
    {
     "cell_type": "markdown",
     "metadata": {},
     "source": [
      "Finally, the last step before training the dimensionality reduction using a Principal Components Analysis."
     ]
    },
    {
     "cell_type": "code",
     "collapsed": false,
     "input": [
      "# disabled in this model"
     ],
     "language": "python",
     "metadata": {},
     "outputs": [],
     "prompt_number": 18
    },
    {
     "cell_type": "heading",
     "level": 4,
     "metadata": {},
     "source": [
      "Modeling"
     ]
    },
    {
     "cell_type": "markdown",
     "metadata": {},
     "source": [
      "Before actually creating our model, we need to split the datasets into their features and labels parts:"
     ]
    },
    {
     "cell_type": "code",
     "collapsed": false,
     "input": [
      "train_X = train.drop('__target__', axis=1)\n",
      "valid_X = valid.drop('__target__', axis=1)\n",
      "\n",
      "train_Y = np.array(train['__target__'])\n",
      "valid_Y = np.array(valid['__target__'])"
     ],
     "language": "python",
     "metadata": {},
     "outputs": [],
     "prompt_number": 19
    },
    {
     "cell_type": "markdown",
     "metadata": {},
     "source": [
      "Now we can finally create our model !"
     ]
    },
    {
     "cell_type": "code",
     "collapsed": false,
     "input": [
      "from dataiku.doctor import RandomForestRegressorIML\n",
      "clf = RandomForestRegressorIML(\n",
      "    n_jobs=2,\n",
      "    random_state=1337,\n",
      "    max_depth=23,\n",
      "    min_samples_leaf=31,\n",
      "    verbose=2)"
     ],
     "language": "python",
     "metadata": {},
     "outputs": [],
     "prompt_number": 20
    },
    {
     "cell_type": "markdown",
     "metadata": {},
     "source": [
      "... And train it"
     ]
    },
    {
     "cell_type": "code",
     "collapsed": false,
     "input": [
      "%time clf.fit(train_X, train_Y)"
     ],
     "language": "python",
     "metadata": {},
     "outputs": [
      {
       "output_type": "stream",
       "stream": "stderr",
       "text": [
        "[Parallel(n_jobs=2)]: Done   1 out of   2 | elapsed:    1.5s remaining:    1.5s\n",
        "[Parallel(n_jobs=2)]: Done   2 out of   2 | elapsed:    1.5s finished\n",
        "[Parallel(n_jobs=2)]: Done   1 out of   2 | elapsed:    0.0s remaining:    0.0s\n",
        "[Parallel(n_jobs=2)]: Done   2 out of   2 | elapsed:    0.0s finished\n"
       ]
      },
      {
       "output_type": "stream",
       "stream": "stderr",
       "text": [
        "[Parallel(n_jobs=2)]: Done   1 out of   2 | elapsed:    1.4s remaining:    1.4s\n",
        "[Parallel(n_jobs=2)]: Done   2 out of   2 | elapsed:    1.4s finished\n",
        "[Parallel(n_jobs=2)]: Done   1 out of   2 | elapsed:    0.0s remaining:    0.0s\n",
        "[Parallel(n_jobs=2)]: Done   2 out of   2 | elapsed:    0.0s finished\n",
        "[Parallel(n_jobs=2)]: Done   1 out of   2 | elapsed:    1.6s remaining:    1.6s\n",
        "[Parallel(n_jobs=2)]: Done   2 out of   2 | elapsed:    1.6s finished\n"
       ]
      },
      {
       "output_type": "stream",
       "stream": "stderr",
       "text": [
        "[Parallel(n_jobs=2)]: Done   1 out of   2 | elapsed:    0.0s remaining:    0.0s\n",
        "[Parallel(n_jobs=2)]: Done   2 out of   2 | elapsed:    0.0s finished\n",
        "[Parallel(n_jobs=2)]: Done   1 out of   2 | elapsed:    1.6s remaining:    1.6s\n",
        "[Parallel(n_jobs=2)]: Done   2 out of   2 | elapsed:    1.6s finished\n"
       ]
      },
      {
       "output_type": "stream",
       "stream": "stderr",
       "text": [
        "[Parallel(n_jobs=2)]: Done   1 out of   2 | elapsed:    0.0s remaining:    0.0s\n",
        "[Parallel(n_jobs=2)]: Done   2 out of   2 | elapsed:    0.0s finished\n",
        "[Parallel(n_jobs=2)]: Done   1 out of   2 | elapsed:    1.6s remaining:    1.6s\n",
        "[Parallel(n_jobs=2)]: Done   2 out of   2 | elapsed:    1.6s finished\n"
       ]
      },
      {
       "output_type": "stream",
       "stream": "stderr",
       "text": [
        "[Parallel(n_jobs=2)]: Done   1 out of   2 | elapsed:    0.0s remaining:    0.0s\n",
        "[Parallel(n_jobs=2)]: Done   2 out of   2 | elapsed:    0.0s finished\n",
        "[Parallel(n_jobs=2)]: Done   1 out of   2 | elapsed:    1.5s remaining:    1.5s\n",
        "[Parallel(n_jobs=2)]: Done   2 out of   2 | elapsed:    1.5s finished\n"
       ]
      },
      {
       "output_type": "stream",
       "stream": "stdout",
       "text": [
        "building tree 1 of 2\n",
        "building tree 1 of 1\n",
        "building tree 2 of 2\n",
        "building tree 1 of 2\n",
        "building tree 1 of 1\n",
        "building tree 2 of 2\n",
        "building tree 1 of 2\n",
        "building tree 1 of 1\n",
        "building tree 2 of 2\n",
        "building tree 1 of 2\n",
        "building tree 1 of 1\n",
        "building tree 2 of 2\n",
        "building tree 1 of 2\n",
        "building tree 1 of 1\n",
        "building tree 2 of 2\n",
        "building tree 1 of 2\n",
        "building tree 1 of 1\n",
        "building tree 2 of 2\n",
        "CPU times: user 14.6 s, sys: 158 ms, total: 14.7 s"
       ]
      },
      {
       "output_type": "stream",
       "stream": "stdout",
       "text": [
        "\n",
        "Wall time: 10.8 s\n"
       ]
      },
      {
       "output_type": "stream",
       "stream": "stderr",
       "text": [
        "[Parallel(n_jobs=2)]: Done   1 out of   2 | elapsed:    0.0s remaining:    0.0s\n",
        "[Parallel(n_jobs=2)]: Done   2 out of   2 | elapsed:    0.0s finished\n"
       ]
      }
     ],
     "prompt_number": 21
    },
    {
     "cell_type": "markdown",
     "metadata": {},
     "source": [
      "Build up our result dataset"
     ]
    },
    {
     "cell_type": "code",
     "collapsed": false,
     "input": [
      "%time _predictions = clf.predict(valid_X)\n",
      "predictions = pd.Series(data=_predictions, index=valid_X.index, name='predicted_value')\n",
      "\n",
      "# Build scored dataset\n",
      "results_valid = valid_X.join(predictions, how='left')\n",
      "results_valid = results_valid.join(valid['__target__'], how='left')\n",
      "results_valid = results_valid.rename(columns= {'__target__': 'consomation'})"
     ],
     "language": "python",
     "metadata": {},
     "outputs": [
      {
       "output_type": "stream",
       "stream": "stdout",
       "text": [
        "CPU times: user 93.9 ms, sys: 4.9 ms, total: 98.8 ms\n",
        "Wall time: 124 ms\n"
       ]
      },
      {
       "output_type": "stream",
       "stream": "stderr",
       "text": [
        "[Parallel(n_jobs=2)]: Done   1 out of   2 | elapsed:    0.0s remaining:    0.0s\n",
        "[Parallel(n_jobs=2)]: Done   2 out of   2 | elapsed:    0.0s finished\n"
       ]
      }
     ],
     "prompt_number": 22
    },
    {
     "cell_type": "markdown",
     "metadata": {},
     "source": [
      "Let's have a look at feature importances"
     ]
    },
    {
     "cell_type": "code",
     "collapsed": false,
     "input": [
      "feature_importances_data = []\n",
      "features = train_X.columns\n",
      "for feature_name, feature_importance in zip(features, clf.feature_importances_):\n",
      "    feature_importances_data.append({\n",
      "        'feature': feature_name,\n",
      "        'importance': feature_importance\n",
      "    })\n",
      "\n",
      "# Plot the results\n",
      "pd.DataFrame(feature_importances_data)\\\n",
      "    .set_index('feature')\\\n",
      "    .sort('importance')[-10::]\\\n",
      "    .plot(title='Top 10 most important variables',\n",
      "          kind='barh',\n",
      "          figsize=(10, 6),\n",
      "          color='#348ABD',\n",
      "          alpha=0.6,\n",
      "          lw='1',\n",
      "          edgecolor='#348ABD',\n",
      "          grid=False,)"
     ],
     "language": "python",
     "metadata": {},
     "outputs": [
      {
       "metadata": {},
       "output_type": "pyout",
       "prompt_number": 23,
       "text": [
        "<matplotlib.axes._subplots.AxesSubplot at 0x112c5ca50>"
       ]
      },
      {
       "metadata": {},
       "output_type": "display_data",
       "png": "[encoded data removed]",
       "text": [
        "<matplotlib.figure.Figure at 0x112c5c350>"
       ]
      }
     ],
     "prompt_number": 23
    },
    {
     "cell_type": "heading",
     "level": 4,
     "metadata": {},
     "source": [
      "Results"
     ]
    },
    {
     "cell_type": "markdown",
     "metadata": {},
     "source": [
      "You can measure the model's accuracy:"
     ]
    },
    {
     "cell_type": "code",
     "collapsed": false,
     "input": [
      "c =  results_valid[['predicted_value', 'consomation']].corr()\n",
      "print 'Pearson correlation: %s' % c['predicted_value'][1]"
     ],
     "language": "python",
     "metadata": {},
     "outputs": [
      {
       "output_type": "stream",
       "stream": "stdout",
       "text": [
        "Pearson correlation: 0.992453011881\n"
       ]
      }
     ],
     "prompt_number": 24
    },
    {
     "cell_type": "markdown",
     "metadata": {},
     "source": [
      "That's it. It's now up to you to tune your preprocessing, your algo, and your analysis !\n"
     ]
    }
   ],
   "metadata": {}
  }
 ]
}